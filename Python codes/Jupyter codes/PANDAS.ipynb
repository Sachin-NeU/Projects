{
 "cells": [
  {
   "cell_type": "code",
   "execution_count": 18,
   "metadata": {},
   "outputs": [
    {
     "name": "stdout",
     "output_type": "stream",
     "text": [
      "3 \n",
      "*******************\n",
      "   0  1\n",
      "0  1  2\n",
      "1  3  4\n",
      "2  5  6 \n",
      "*******************\n",
      "    Cat   Dog       Rat\n",
      "0  Rude  Nice  Annoying\n",
      "1     1     2         3 \n",
      "*******************\n",
      "   A\n",
      "0  1\n",
      "1  2\n",
      "2  3\n",
      "3  4 \n",
      "*******************\n",
      "                      0\n",
      "India         New Delhi\n",
      "Argentina  Buenos Aires\n",
      "Peru               Lima \n",
      "*******************\n",
      "(3, 1) \n",
      "*******************\n",
      "3 \n",
      "*******************\n"
     ]
    },
    {
     "data": {
      "text/plain": [
       "[0, 1]"
      ]
     },
     "execution_count": 18,
     "metadata": {},
     "output_type": "execute_result"
    }
   ],
   "source": [
    "import numpy as np\n",
    "import pandas as pd\n",
    "a = np.array([[1,2],[3,4],[5,6]])\n",
    "x=pd.DataFrame(a)\n",
    "l = x[0].count()\n",
    "print(l,\"\\n*******************\")\n",
    "print(pd.DataFrame(a),\"\\n*******************\")\n",
    "dict = {\"Cat\":[\"Rude\",1],\"Dog\":[\"Nice\",2],\"Rat\":[\"Annoying\",3]}\n",
    "print(pd.DataFrame(dict),\"\\n*******************\")\n",
    "df = pd.DataFrame(data=[1,2,3,4],index=range(0,4),columns=[\"A\"])\n",
    "print(pd.DataFrame(df),\"\\n*******************\")\n",
    "S = pd.Series({\"India\":\"New Delhi\",\"Argentina\":\"Buenos Aires\",\"Peru\":\"Lima\"})\n",
    "print(pd.DataFrame(S),\"\\n*******************\")\n",
    "print(pd.DataFrame(S).shape,\"\\n*******************\")\n",
    "print(len(pd.DataFrame(S)),\"\\n*******************\")\n",
    "list(x.columns.values)\n"
   ]
  },
  {
   "cell_type": "code",
   "execution_count": 20,
   "metadata": {},
   "outputs": [
    {
     "name": "stdout",
     "output_type": "stream",
     "text": [
      "{'Cat': ['Rude', 1], 'Dog': ['Nice', 2], 'Rat': ['Annoying', 3]}\n",
      "1 \n",
      "*******************\n",
      " Rude\n",
      "Rude \n",
      "*******************\n",
      " Rude \n",
      "*******************\n",
      "Nice \n",
      "*******************\n",
      " Nice \n",
      "*******************\n",
      "Cat        Rude\n",
      "Dog        Nice\n",
      "Rat    Annoying\n",
      "Name: 0, dtype: object \n",
      "*******************\n",
      "0    Nice\n",
      "1       2\n",
      "Name: Dog, dtype: object\n",
      "Cat        Rude\n",
      "Dog        Nice\n",
      "Rat    Annoying\n",
      "Name: 0, dtype: object\n"
     ]
    }
   ],
   "source": [
    "## Extracting values from DataFrames\n",
    "print(dict)\n",
    "print(x.iloc[0][0],\"\\n*******************\\n\",pd.DataFrame(dict).iloc[0][0])\n",
    "print(pd.DataFrame(dict).loc[0,\"Cat\"],\"\\n*******************\\n\",pd.DataFrame(dict).iloc[0][0],\"\\n*******************\")\n",
    "print(pd.DataFrame(dict).at[0,\"Dog\"],\"\\n*******************\\n\",pd.DataFrame(dict).iat[0,1],\"\\n*******************\")\n",
    "print(pd.DataFrame(dict).loc[0,:],\"\\n*******************\")\n",
    "print(pd.DataFrame(dict).iloc[:,1])\n",
    "print(pd.DataFrame(dict).iloc[0])"
   ]
  },
  {
   "cell_type": "code",
   "execution_count": 12,
   "metadata": {},
   "outputs": [
    {
     "name": "stdout",
     "output_type": "stream",
     "text": [
      "    Cat   Dog       Rat\n",
      "0  Rude  Nice  Annoying\n",
      "1     1     2         3\n",
      "           Cat   Dog\n",
      "Rat                 \n",
      "Annoying  Rude  Nice\n",
      "3            1     2\n",
      "           Cat   Dog\n",
      "Rat                 \n",
      "Annoying  Rude  Nice\n",
      "3            1     2\n",
      "Rat        Eww     4\n",
      "****************\n",
      "            Cat   Dog       Rat\n",
      "Rat                           \n",
      "Annoying  Rude  Nice  Annoying\n",
      "3            1     2         3\n",
      "Rat        Eww     4       Rat\n",
      "****************\n",
      "            Cat   Dog       Rat Rabbit\n",
      "Rat                                  \n",
      "Annoying  Rude  Nice  Annoying  White\n",
      "3            1     2         3      4\n",
      "Rat        Eww     4       Rat      5\n",
      "****** Delete Index********\n",
      "            Cat   Dog Rabbit\n",
      "Rat                        \n",
      "Annoying  Rude  Nice  White\n",
      "3            1     2      4\n",
      "*******Reset Index***********\n",
      "         Rat   Cat   Dog Rabbit\n",
      "0  Annoying  Rude  Nice  White\n",
      "1         3     1     2      4\n",
      "*******Reset Index***********\n",
      "    index       Rat   Cat   Dog Rabbit\n",
      "0      0  Annoying  Rude  Nice  White\n",
      "1      1         3     1     2      4\n",
      "*******Reset Index***********\n",
      "         Rat   Cat   Dog Rabbit\n",
      "0  Annoying  Rude  Nice  White\n",
      "1         3     1     2      4\n",
      "*********Drop Column*********\n",
      "     Cat   Dog Rabbit\n",
      "0  Rude  Nice  White\n",
      "1     1     2      4\n",
      "*********Rename Index*****************\n",
      "             Cat   Dog Rabbit\n",
      "Character  Rude  Nice  White\n",
      "Number        1     2      4\n",
      "*********Rename Column*****************\n",
      "             Cat   Dog  Mouse\n",
      "Character  Rude  Nice  White\n",
      "Number        1     2      4\n",
      "*********Rename Column*****************\n",
      "             Cat   Dog   Mouse\n",
      "Character  Rude  Nice  Blanco\n",
      "Number        1     2       4\n",
      "*********Rename Regular Expression*****************\n",
      "             Cat   Dog   Mouse\n",
      "Character  Rude  Nice  Blanco\n",
      "Number        1     2       4\n",
      "*********Insert New Column*****************\n",
      "             Cat   Dog   Mouse    Snake\n",
      "Character  Rude  Nice  Blanco  +Danger\n",
      "Number        1     2       4       3-\n",
      "*********Modify Cells in DataFrame*****************\n",
      "             Cat   Dog   Mouse   Snake\n",
      "Character  Rude  Nice  Blanco  Danger\n",
      "Number        1     2       4       3\n",
      "*********Insert New Column*****************\n",
      "             Cat   Dog   Mouse   Snake      Tiger\n",
      "Character  Rude  Nice  Blanco  Danger  Sher Khan\n",
      "Number        1     2       4       3          8\n",
      "Character  0    Sher\n",
      "           1    Khan\n",
      "dtype: object\n",
      "*********Create Empty DataFrame*****************\n",
      "     A\n",
      "0 NaN\n",
      "1 NaN\n",
      "2 NaN\n",
      "3 NaN\n",
      "float64\n"
     ]
    }
   ],
   "source": [
    "####### Set Index\n",
    "df = pd.DataFrame(dict)\n",
    "print(df)\n",
    "df1 = df.set_index(\"Rat\")\n",
    "print(df1)\n",
    "df1.iloc[0]\n",
    "df1.loc[\"Annoying\"]\n",
    "df1.loc[\"Rat\"] = [\"Eww\",4]\n",
    "print(df1)\n",
    "df1[\"Rat\"] = df1.index\n",
    "print(\"****************\\n\",df1)\n",
    "df1[\"Rabbit\"]=[\"White\",4,5]\n",
    "print(\"****************\\n\",df1)\n",
    "df1 = df1.drop(\"Rat\")\n",
    "df1 = df1.drop(columns = \"Rat\")\n",
    "print(\"****** Delete Index********\\n\", df1)\n",
    "df1 = df1.reset_index()\n",
    "print(\"*******Reset Index***********\\n\",df1)\n",
    "df2 = df1.reset_index()\n",
    "print(\"*******Reset Index***********\\n\",df2)\n",
    "df3 = df1.reset_index(drop = True)\n",
    "print(\"*******Reset Index***********\\n\",df3)\n",
    "df3.drop(\"Rat\",axis=1,inplace = True)\n",
    "print(\"*********Drop Column*********\\n\",df3)\n",
    "df3.rename(index={0:\"Character\",1:\"Number\"},inplace=True)\n",
    "print(\"*********Rename Index*****************\\n\",df3)\n",
    "df3.rename(columns={\"Rabbit\":\"Mouse\"},inplace=True)\n",
    "print(\"*********Rename Column*****************\\n\",df3)\n",
    "df3.replace([\"White\"],[\"Blanco\"],inplace=True)\n",
    "print(\"*********Rename Column*****************\\n\",df3)\n",
    "df3.replace({\"\\n\":\"<br>\"},regex=True,inplace=True)\n",
    "print(\"*********Rename Regular Expression*****************\\n\",df3)\n",
    "df3[\"Snake\"]=[\"+Danger\",\"3-\"]\n",
    "print(\"*********Insert New Column*****************\\n\",df3)\n",
    "df3[\"Snake\"] = df3[\"Snake\"].map(lambda x: x.strip(\"+-\"))\n",
    "print(\"*********Modify Cells in DataFrame*****************\\n\",df3)\n",
    "\n",
    "df3[\"Tiger\"]=[\"Sher Khan\",8]\n",
    "print(\"*********Insert New Column*****************\\n\",df3)\n",
    "df3_series = df3[\"Tiger\"].str.split(\" \").apply(pd.Series,1).stack()\n",
    "print(df3_series)\n",
    "\n",
    "df = pd.DataFrame(np.nan, index=[0,1,2,3], columns=['A'])\n",
    "print(\"*********Create Empty DataFrame*****************\\n\",df)\n",
    "print(df.values.dtype)"
   ]
  },
  {
   "cell_type": "code",
   "execution_count": null,
   "metadata": {},
   "outputs": [],
   "source": [
    "products = pd.DataFrame({'category': ['Cleaning', 'Cleaning', 'Entertainment', 'Entertainment', 'Tech', 'Tech','Tech'],\n",
    "        'store': ['Walmart', 'Dia', 'Walmart', 'Fnac', 'Dia','Walmart','Walmart1'],\n",
    "        'price':[11.42, 23.50, 19.99, 15.95, 19.99, 111.55,1115],\n",
    "        'testscore': [4, 3, 5, 7, 5, 8,9]})\n",
    "print(products)\n",
    "pivot_products = products.pivot(index = \"category\",columns = \"store\", values = \"price\")\n",
    "print(\"**************Pivot DataFrame***************\\n\",pivot_products)\n",
    "pivot_p1 = products.pivot(index = \"category\",columns = 'store')\n",
    "print(\"************Pivot DataFrame w/o values*********************\\n\",pivot_p1)\n",
    "products = pd.DataFrame({'category': ['Cleaning', 'Cleaning', 'Entertainment', 'Entertainment', 'Tech', 'Tech','Tech'],\n",
    "        'store': ['Walmart', 'Dia', 'Walmart', 'Fnac', 'Dia','Walmart','Walmart'],\n",
    "        'price':[11.42, 23.50, 19.99, 15.95, 19.99, 111.55,111.5],\n",
    "        'testscore': [4, 3, 5, 7, 5, 8,9]})\n",
    "print(\"**************Product2***************\\n\",products)\n",
    "pivot_products = products.pivot_table(index = \"category\",columns = \"store\", values = \"price\",aggfunc='mean')\n",
    "print(\"**************Pivot DataFrame***************\\n\",pivot_products)"
   ]
  },
  {
   "cell_type": "code",
   "execution_count": null,
   "metadata": {},
   "outputs": [],
   "source": [
    "from collections import OrderedDict\n",
    "table = OrderedDict(( (\"Item\", ['Item0', 'Item0', 'Item1', 'Item1']),\n",
    "    ('CType',['Gold', 'Bronze', 'Gold', 'Silver']),\n",
    "    ('USD',  ['1$', '2$', '3$', '4$']),\n",
    "    ('EU',   ['1€', '2€', '3€', '4€'])))\n",
    "df = pd.DataFrame(table)\n",
    "print(df)\n",
    "pivot = df.pivot(index = \"Item\", columns = \"CType\",values = \"USD\")\n",
    "print(pivot)\n",
    "#########  Access the USD cost of Item 0 for gold customers\n",
    "print(df[(df.Item==\"Item0\")&(df.CType==\"Gold\")].USD.values)\n",
    "print(pivot[pivot.index==\"Item0\"].Gold.values)\n",
    "\n",
    "#########  Row Mutli-Index\n",
    "row_idx_arr = list(zip([\"r-0\",\"r-0\"],[\"r-00\",'r-01']))\n",
    "row_idx = pd.MultiIndex.from_tuples(row_idx_arr)\n",
    "print(row_idx)\n",
    "\n",
    "#########  Column Multi-Index\n",
    "col_idx_arr = list(zip([\"c-0\",\"c-0\",\"c-1\"],[\"c-00\",\"c-01\",\"c-10\"]))\n",
    "col_idx = pd.MultiIndex.from_tuples(col_idx_arr)\n",
    "print(col_idx)\n",
    "\n",
    "df = pd.DataFrame(np.arange(0,6).reshape(2,3),index=row_idx, columns=col_idx)\n",
    "df = df.applymap(lambda x: (x // 3, x%3))\n",
    "print(df)\n",
    "\n",
    "s=df.stack()\n",
    "print(s)\n",
    "us=s.unstack()\n",
    "print(us)\n",
    "us.to_csv(\"Test2.csv\", sep=\"\\t\", encoding=\"utf-8\",na_rep=\"NA\")"
   ]
  },
  {
   "cell_type": "code",
   "execution_count": null,
   "metadata": {},
   "outputs": [],
   "source": [
    "# Reshaping the DataFrame with melt()\n",
    "people = pd.DataFrame({\"FirstName\":[\"Ram\",\"John\"],\n",
    "                      \"LastName\":[\"Bam\",\"Fu\"],\n",
    "                      \"BloodType\":[\"A+\",\"B-\"],\n",
    "                      \"Weight\":[66,100],\n",
    "                      \"Height\":[169,185]})\n",
    "print(people)\n",
    "print(pd.melt(people,id_vars=[\"FirstName\",\"LastName\"],var_name=\"Measurements\"))"
   ]
  },
  {
   "cell_type": "code",
   "execution_count": null,
   "metadata": {},
   "outputs": [],
   "source": [
    "## Iterate over Python DataFrame\n",
    "df = pd.DataFrame(data=np.array([[1,2,3],[4,5,6],[7,8,9]]), columns=[\"A\",'B','C'])\n",
    "print(df)\n",
    "for index,row in df.iterrows():\n",
    "    print(\"*****************\\n\",row[\"A\"],row[\"B\"])"
   ]
  },
  {
   "cell_type": "code",
   "execution_count": null,
   "metadata": {},
   "outputs": [],
   "source": [
    "## Output a DataFrame to csv file\n",
    "print(df)\n",
    "df.to_csv(\"test_csv.csv\", sep=\"\\t\", encoding=\"utf-8\")"
   ]
  },
  {
   "cell_type": "code",
   "execution_count": null,
   "metadata": {},
   "outputs": [],
   "source": [
    "##Output a DataFrame to Excel file\n",
    "writer = pd.ExcelWriter(\"myDataFrame.xlsx\")\n",
    "df.to_excel(writer,\"DataFrame\")\n",
    "writer.save()"
   ]
  },
  {
   "cell_type": "code",
   "execution_count": null,
   "metadata": {},
   "outputs": [],
   "source": [
    "print(df)"
   ]
  },
  {
   "cell_type": "code",
   "execution_count": null,
   "metadata": {},
   "outputs": [],
   "source": [
    "ttttttttttttttttttttttttt"
   ]
  },
  {
   "cell_type": "code",
   "execution_count": 17,
   "metadata": {},
   "outputs": [
    {
     "name": "stdout",
     "output_type": "stream",
     "text": [
      "1    2\n",
      "2    3\n",
      "dtype: int64\n",
      "1    2\n",
      "2    3\n",
      "dtype: int64\n",
      "Series([], dtype: int64)\n",
      "A    1\n",
      "B    2\n",
      "C    3\n",
      "dtype: int64\n",
      "A    1\n",
      "B    2\n",
      "dtype: int64\n"
     ]
    }
   ],
   "source": [
    "## Series\n",
    "import pandas as pd\n",
    "se = pd.Series((1,2,3,4))\n",
    "print(se[1:3])\n",
    "se = pd.Series((1,2,3,4),index=(0,1,2,3))\n",
    "print(se[1:3])\n",
    "se = pd.Series((1,2,3,4),index=(5,6,7,8))\n",
    "print(se[5:8])\n",
    "se = pd.Series((1,2,3,4),index=('A','B','C','D'))\n",
    "print(se['A':'C'])\n",
    "print(se[0:2])"
   ]
  },
  {
   "cell_type": "code",
   "execution_count": 8,
   "metadata": {},
   "outputs": [
    {
     "name": "stdout",
     "output_type": "stream",
     "text": [
      "a    0\n",
      "b    1\n",
      "c    2\n",
      "e    3\n",
      "d    4\n",
      "dtype: int64\n",
      "  index  0\n",
      "0     a  0\n",
      "1     b  1\n",
      "2     c  2\n",
      "3     e  3\n",
      "4     d  4\n"
     ]
    }
   ],
   "source": [
    "# Convert Series into DataFrame column\n",
    "import pandas as pd\n",
    "mylist = list('abcedfghijklmnopqrstuvwxyz')\n",
    "myarr = np.arange(26)\n",
    "mydict = dict(zip(mylist, myarr))\n",
    "#mydict = dict(zip(mylist, myarr))\n",
    "ser = pd.Series(mydict)\n",
    "print(ser.head())\n",
    "df = ser.to_frame().reset_index()\n",
    "print(df.head())"
   ]
  },
  {
   "cell_type": "code",
   "execution_count": 1,
   "metadata": {},
   "outputs": [
    {
     "name": "stdout",
     "output_type": "stream",
     "text": [
      "0     a\n",
      "1     b\n",
      "2     c\n",
      "3     e\n",
      "4     d\n",
      "5     f\n",
      "6     g\n",
      "7     h\n",
      "8     i\n",
      "9     j\n",
      "10    k\n",
      "11    l\n",
      "12    m\n",
      "13    n\n",
      "14    o\n",
      "15    p\n",
      "16    q\n",
      "17    r\n",
      "18    s\n",
      "19    t\n",
      "20    u\n",
      "21    v\n",
      "22    w\n",
      "23    x\n",
      "24    y\n",
      "25    z\n",
      "dtype: object\n",
      "0    0\n",
      "1    1\n",
      "2    2\n",
      "3    3\n",
      "4    4\n",
      "dtype: int32\n",
      "{'a': 0, 'b': 1, 'c': 2, 'e': 3, 'd': 4}\n",
      "a    0\n",
      "b    1\n",
      "c    2\n",
      "e    3\n",
      "d    4\n",
      "dtype: int64\n"
     ]
    }
   ],
   "source": [
    "import numpy as np\n",
    "import pandas as pd\n",
    "mylist = list('abcedfghijklmnopqrstuvwxyz')\n",
    "myarr = np.arange(5)\n",
    "mydict = dict(zip(mylist, myarr))\n",
    "s1=pd.Series(mylist)\n",
    "print(s1)\n",
    "s2 = pd.Series(myarr)\n",
    "print(s2)\n",
    "print(mydict)\n",
    "s3 = pd.Series(mydict)\n",
    "print(s3)"
   ]
  },
  {
   "cell_type": "code",
   "execution_count": 2,
   "metadata": {},
   "outputs": [
    {
     "name": "stdout",
     "output_type": "stream",
     "text": [
      "Eye Numpy Array:\n",
      "<function eye at 0x00000270B9D32EA0>\n"
     ]
    }
   ],
   "source": [
    "import numpy as np\n",
    "eye = np.eye\n",
    "print(\"Eye Numpy Array:\\n{}\".format(eye))"
   ]
  },
  {
   "cell_type": "code",
   "execution_count": null,
   "metadata": {},
   "outputs": [],
   "source": []
  },
  {
   "cell_type": "code",
   "execution_count": null,
   "metadata": {},
   "outputs": [],
   "source": []
  }
 ],
 "metadata": {
  "kernelspec": {
   "display_name": "Python 3",
   "language": "python",
   "name": "python3"
  },
  "language_info": {
   "codemirror_mode": {
    "name": "ipython",
    "version": 3
   },
   "file_extension": ".py",
   "mimetype": "text/x-python",
   "name": "python",
   "nbconvert_exporter": "python",
   "pygments_lexer": "ipython3",
   "version": "3.7.3"
  }
 },
 "nbformat": 4,
 "nbformat_minor": 4
}
