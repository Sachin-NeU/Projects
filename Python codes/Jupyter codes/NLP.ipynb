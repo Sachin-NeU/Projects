{
 "cells": [
  {
   "cell_type": "code",
   "execution_count": 68,
   "metadata": {},
   "outputs": [
    {
     "name": "stdout",
     "output_type": "stream",
     "text": [
      "<title>The Employability Challenge – Education and Employers</title>\n"
     ]
    },
    {
     "data": {
      "image/png": "[encoded data removed]",
      "text/plain": [
       "<Figure size 432x288 with 1 Axes>"
      ]
     },
     "metadata": {
      "needs_background": "light"
     },
     "output_type": "display_data"
    },
    {
     "data": {
      "text/plain": [
       "<matplotlib.axes._subplots.AxesSubplot at 0x2258895ccf8>"
      ]
     },
     "execution_count": 68,
     "metadata": {},
     "output_type": "execute_result"
    }
   ],
   "source": [
    "from urllib import request\n",
    "from bs4 import BeautifulSoup\n",
    "from nltk.corpus import stopwords\n",
    "import nltk\n",
    "\n",
    "response = request.urlopen(\"https://www.educationandemployers.org/research/the-employability-challenge-2009/\")\n",
    "html = response.read()\n",
    "soup = BeautifulSoup(html,\"html5lib\")\n",
    "text = soup.get_text(strip=True)\n",
    "##  prints the title\n",
    "print(soup.title)\n",
    "tokens = [t.lower() for t in text.split()]\n",
    "sr = stopwords.words(\"english\")\n",
    "sr1 = [x.lower() for x in sr]\n",
    "cleantokens = tokens[:]\n",
    "for token in tokens:\n",
    "    if token in sr1 or not token.isalpha():\n",
    "        cleantokens.remove(token)\n",
    "freq = nltk.FreqDist(cleantokens)\n",
    "freq.plot(10)"
   ]
  },
  {
   "cell_type": "code",
   "execution_count": 60,
   "metadata": {},
   "outputs": [
    {
     "name": "stdout",
     "output_type": "stream",
     "text": [
      "<re.Match object; span=(5, 8), match='was'>\n",
      "['1998', 'WAS', 'THE', 'YEAR', 'WHEN', 'THE', 'FILM', 'TITANIC', 'WAS', 'RELEASED']\n"
     ]
    }
   ],
   "source": [
    "import re\n",
    "text = \"1998 was the YeaR when the film titanic was released\"\n",
    "result = re.search(r\"[a-zA-z]+\", text)\n",
    "print(result)\n",
    "[l for l in text.split()]\n",
    "l=[l.upper() for l in l1]\n",
    "print(l)\n"
   ]
  },
  {
   "cell_type": "code",
   "execution_count": 42,
   "metadata": {},
   "outputs": [
    {
     "name": "stdout",
     "output_type": "stream",
     "text": [
      "['employment', 'employ', 'employment', 'work', 'employment', 'engagement', 'use', 'usage', 'utilization', 'utilisation', 'employment', 'exercise']\n"
     ]
    }
   ],
   "source": [
    "## word synonyms and antonyms\n",
    "from nltk.corpus import wordnet\n",
    "synonyms = []\n",
    "words = [\"job\",\"employment\",]\n",
    "for syn in wordnet.synsets(\"employment\"):\n",
    "    for lemma in syn.lemmas():\n",
    "        synonyms.append(lemma.name())\n",
    "print(synonyms)"
   ]
  },
  {
   "cell_type": "code",
   "execution_count": null,
   "metadata": {},
   "outputs": [],
   "source": []
  }
 ],
 "metadata": {
  "kernelspec": {
   "display_name": "Python 3",
   "language": "python",
   "name": "python3"
  },
  "language_info": {
   "codemirror_mode": {
    "name": "ipython",
    "version": 3
   },
   "file_extension": ".py",
   "mimetype": "text/x-python",
   "name": "python",
   "nbconvert_exporter": "python",
   "pygments_lexer": "ipython3",
   "version": "3.7.3"
  }
 },
 "nbformat": 4,
 "nbformat_minor": 4
}
