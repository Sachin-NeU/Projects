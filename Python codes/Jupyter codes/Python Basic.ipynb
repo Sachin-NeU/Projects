{
 "cells": [
  {
   "cell_type": "code",
   "execution_count": 157,
   "metadata": {},
   "outputs": [
    {
     "name": "stdout",
     "output_type": "stream",
     "text": [
      "hello\n",
      "Hello\n",
      "HELLO\n",
      "   hello\n",
      "     Hello\n",
      "  hello   \n",
      "Fuckello\n",
      "Sachin\n",
      "2 []\n"
     ]
    }
   ],
   "source": [
    "name = \"hello\"\n",
    "print(name)\n",
    "print(name.capitalize())\n",
    "print(name.upper())\n",
    "print(name.rjust(8))\n",
    "print(name.capitalize().rjust(10))\n",
    "print(name.center(10))\n",
    "print(name.replace('h',\"Fuck\"))\n",
    "print(\"     Sachin  \".strip())\n",
    "a=2\n",
    "b=a//2+1\n",
    "c=[x for x in range(2,2)]\n",
    "print(b,c)"
   ]
  },
  {
   "cell_type": "code",
   "execution_count": 1,
   "metadata": {},
   "outputs": [
    {
     "name": "stdout",
     "output_type": "stream",
     "text": [
      "[1, 2, 3] 3\n",
      "[1, 2, 'Sachin']\n",
      "[1, 2, 'Sachin', 'patty', 'patty']\n",
      "[1, 2, 'Sachin', 'patty'] patty\n",
      "[0, 1, 2, 3, 4]\n",
      "[2, 3]\n",
      "[0, 1, 2] [2, 3, 4]\n",
      "[0, 7, 3, 4]\n",
      "{7: 49, 3: 9}\n",
      "{'Fish', 'Dog', 'Cat', 'cat'}\n",
      "{'Fish', 'Dog', 'Cat'}\n",
      "{0.0, 1.0, 2.0, 1.7320508075688772, 1.4142135623730951}\n",
      "{(0, 1): 0, (1, 2): 10, (2, 3): 20, (3, 4): 30, (4, 5): 40}\n",
      "20 <class 'tuple'>\n",
      "{1, 2, 3}\n",
      "{1, 2, 3, (2, 3)}\n",
      "Enter a number to check wheher it is prime or not: 100\n",
      "100 is not a prime number.\n",
      "hello! Sachin\n",
      "HELLO! SACHIN\n"
     ]
    }
   ],
   "source": [
    "l1=[1,2,3]\n",
    "print(l1,len(l1))\n",
    "l1[2]=\"Sachin\"\n",
    "print(l1)\n",
    "l1.append(\"patty\")\n",
    "l1.append(\"patty\")\n",
    "print(l1)\n",
    "a=l1.pop()\n",
    "print(l1,a)\n",
    "num=list(range(5))\n",
    "print(num)\n",
    "print(num[2:4])\n",
    "print(num[:3],num[2:])\n",
    "num[1:3]=[7]\n",
    "print(num)\n",
    "dict1 = {x:x **2 for x in num if x % 2 != 0}\n",
    "print(dict1)\n",
    "\n",
    "#####  Sets  #################\n",
    "from math import sqrt\n",
    "s1={\"Cat\",'Dog'}\n",
    "s1.add(\"Fish\")\n",
    "s1.add('cat')\n",
    "print(s1)\n",
    "s1.remove(\"cat\")\n",
    "print(s1)\n",
    "s2 = {sqrt(x) for x in range(5)}\n",
    "print(s2)\n",
    "\n",
    "#####  Tuples  ############\n",
    "dict = {(x,x+1):x*10 for x in range(5)}\n",
    "print(dict)\n",
    "t1 = (2,3)\n",
    "l1 = [2,3]\n",
    "print(dict[t1],type(t1))\n",
    "#print(dict[l1],type(l1))  -- error cannot take list in dictionary keys\n",
    "s1={1,2,3}\n",
    "print(s1)\n",
    "s1.add(t1)  # Cannot add list to set elements\n",
    "print(s1)\n",
    "\n",
    "\n",
    "#####  Functions  #############\n",
    "def prime_num(num):\n",
    "    cnt = 0\n",
    "    for x in range(2,num//2+1):\n",
    "        #print(x)\n",
    "        if num%x == 0:\n",
    "            cnt +=1\n",
    "    if cnt < 1:\n",
    "        print(\"%d is a prime number.\" %num)\n",
    "    else:\n",
    "        print(\"%d is not a prime number.\" %num)\n",
    "    \n",
    "num=int(input(\"Enter a number to check wheher it is prime or not: \"))\n",
    "prime_num(num)\n",
    "\n",
    "\n",
    "######  Classes  ###########\n",
    "\n",
    "class Greeter:\n",
    "    #Constructor\n",
    "    def __init__(self, name):\n",
    "        self.name = name\n",
    "        \n",
    "    #Instance method\n",
    "    def greet(self, loud = False):\n",
    "        if loud:\n",
    "            print(\"HELLO! %s\" % self.name.upper())\n",
    "        else:\n",
    "            print(\"hello! %s\" % self.name)\n",
    "g = Greeter(\"Sachin\")\n",
    "g.greet()\n",
    "g.greet(loud=True)\n"
   ]
  },
  {
   "cell_type": "code",
   "execution_count": 1,
   "metadata": {},
   "outputs": [
    {
     "name": "stdout",
     "output_type": "stream",
     "text": [
      "#0 Cats <class 'str'>\n",
      "#1 Dogs <class 'str'>\n",
      "#2 Rats <class 'str'>\n",
      "#3 1 <class 'str'>\n",
      "[1, 4, 9, 16, 25]\n",
      "[4, 16]\n",
      "{'Cat': 'Rude', 'Dog': 'Cute'}\n",
      "Rude\n",
      "True\n",
      "{'Cat': 'Rude', 'Dog': 'Cute', 'Fish': 'Wet'}\n",
      "Wet\n",
      "Nada\n",
      "Cat\n",
      "Dog\n",
      "Fish\n",
      "A Cat is Rude\n",
      "A Dog is Cute\n",
      "A Fish is Wet\n"
     ]
    }
   ],
   "source": [
    "animals = [\"Cats\",\"Dogs\",\"Rats\",\"1\"]\n",
    "for idx,animal in enumerate(animals):\n",
    "    print(\"#%d %s\" %(idx,animal),type(animal))\n",
    "num = [1,2,3,4,5]\n",
    "sqr = [x ** 2 for x in num]\n",
    "print(sqr)\n",
    "sqr1 = [x **2 for x in num if x %2 == 0]\n",
    "print(sqr1)\n",
    "dict = {\"Cat\":\"Rude\", 'Dog': \"Cute\"}\n",
    "print(dict)\n",
    "print(dict[\"Cat\"])\n",
    "print(\"Dog\" in dict)\n",
    "dict['Fish'] = \"Wet\"\n",
    "print(dict)\n",
    "print(dict.get(\"Fish\",\"NA\"))\n",
    "print(dict.get(\"Turtle\",\"Nada\"))\n",
    "for animal in dict:\n",
    "    print(animal)\n",
    "for animal,val in dict.items():\n",
    "    print(\"A %s is %s\" % (animal, val))"
   ]
  },
  {
   "cell_type": "code",
   "execution_count": 7,
   "metadata": {},
   "outputs": [
    {
     "name": "stdout",
     "output_type": "stream",
     "text": [
      "0    1\n",
      "1    2\n",
      "2    3\n",
      "3    4\n",
      "dtype: int64\n"
     ]
    }
   ],
   "source": []
  },
  {
   "cell_type": "code",
   "execution_count": null,
   "metadata": {},
   "outputs": [],
   "source": []
  }
 ],
 "metadata": {
  "kernelspec": {
   "display_name": "Python 3",
   "language": "python",
   "name": "python3"
  },
  "language_info": {
   "codemirror_mode": {
    "name": "ipython",
    "version": 3
   },
   "file_extension": ".py",
   "mimetype": "text/x-python",
   "name": "python",
   "nbconvert_exporter": "python",
   "pygments_lexer": "ipython3",
   "version": "3.7.3"
  }
 },
 "nbformat": 4,
 "nbformat_minor": 4
}
