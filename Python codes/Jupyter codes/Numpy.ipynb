{
 "cells": [
  {
   "cell_type": "code",
   "execution_count": 3,
   "metadata": {},
   "outputs": [
    {
     "name": "stdout",
     "output_type": "stream",
     "text": [
      "[1 2 3] <class 'numpy.ndarray'> int32\n",
      "[5 7 9] [ 4 10 18]\n",
      "[[1 2 3]\n",
      " [4 5 6]] (2, 3) int64\n",
      "[[0. 0.]\n",
      " [0. 0.]]\n",
      "[[1. 1.]\n",
      " [1. 1.]]\n",
      "[[1. 0. 0.]\n",
      " [0. 1. 0.]\n",
      " [0. 0. 1.]]\n",
      "[[4.5 4.5]\n",
      " [4.5 4.5]]\n",
      "[[0.69756544 0.16591136]\n",
      " [0.10389623 0.03700213]]\n",
      "[0 1 2 3 4 5 6 7 8 9] [2 7] [ 2.  4.  6.  8. 10.] [[ 0  1  2  3  4]\n",
      " [ 5  6  7  8  9]\n",
      " [10 11 12 13 14]]\n",
      "[[ 1  2  3  4]\n",
      " [ 5  6  7  8]\n",
      " [ 9 10 11 12]]\n",
      "[[2 3]\n",
      " [6 7]]\n",
      "[[77  3]\n",
      " [ 6  7]]\n",
      "[5 6 7 8] (4,) [[5 6 7 8]] (1, 4)\n",
      "[1 6 9]\n",
      "[[ 2  4  6]\n",
      " [ 8 10 12]] \n",
      " [[ 2  4  6]\n",
      " [ 8 10 12]]\n",
      "[[0 0 0]\n",
      " [0 0 0]] \n",
      " [[ 1  4  9]\n",
      " [16 25 36]] \n",
      " [[1. 1. 1.]\n",
      " [1. 1. 1.]] \n",
      " [[1.         1.41421356 1.73205081]\n",
      " [2.         2.23606798 2.44948974]]\n"
     ]
    }
   ],
   "source": [
    "import numpy as np\n",
    "a = np.array([1,2,3])\n",
    "print(a,type(a),a.dtype)\n",
    "b = np.array([4,5,6])\n",
    "print(a+b, a*b)\n",
    "c = np.array([[1,2,3],[4,5,6]],dtype=np.int64)\n",
    "print(c,c.shape,c.dtype)\n",
    "#a1 = np.zeros((2,2))\n",
    "print(np.zeros((2,2)))\n",
    "print(np.ones((2,2)))\n",
    "print(np.eye(3))\n",
    "print(np.full((2,2),4.5))\n",
    "print(np.random.random((2,2)))\n",
    "a1 = np.arange(10)\n",
    "a2 = np.arange(2,10,5)\n",
    "a3 = np.linspace(2,10,5)\n",
    "a4 = np.arange(15).reshape(3,5)\n",
    "print(a1,a2,a3,a4)\n",
    "b1 = np.array([[1,2,3,4],[5,6,7,8],[9,10,11,12]])\n",
    "print(b1)\n",
    "b2 = b1[:2,1:3]\n",
    "print(b2)\n",
    "b2[0,0] = 77\n",
    "print(b2)\n",
    "row1 = b1[1,:]      # Rank 1\n",
    "row2 = b1[1:2,:]    # Rank 2\n",
    "print(row1, row1.shape, row2, row2.shape)\n",
    "print(b1[[0,1,2],[0,1,0]])\n",
    "a = np.array([[1,2,3],[4,5,6]])\n",
    "b = np.array([[1,2,3],[4,5,6]])\n",
    "print(np.add(a,b),\"\\n\", a+b)\n",
    "print(np.subtract(a,b),\"\\n\", np.multiply(a,b), \"\\n\", np.divide(a,b), \"\\n\", np.sqrt(a))"
   ]
  },
  {
   "cell_type": "code",
   "execution_count": 15,
   "metadata": {},
   "outputs": [
    {
     "name": "stdout",
     "output_type": "stream",
     "text": [
      "[[0 1 2]\n",
      " [3 4 5]\n",
      " [6 7 8]]\n",
      "[0 1 2]\n",
      "[[ 0  2  4]\n",
      " [ 3  5  7]\n",
      " [ 6  8 10]]\n"
     ]
    }
   ],
   "source": [
    "a=np.arange(9).reshape(3,3)\n",
    "print(a)\n",
    "b = np.arange(3)\n",
    "print(b)\n",
    "c = a + b\n",
    "print(c)"
   ]
  },
  {
   "cell_type": "code",
   "execution_count": 33,
   "metadata": {},
   "outputs": [
    {
     "name": "stdout",
     "output_type": "stream",
     "text": [
      "uint8 (3456, 5184, 3)\n",
      "[[[ 37  66  20]\n",
      "  [ 37  59  21]\n",
      "  [ 44  54  29]\n",
      "  ...\n",
      "  [ 17 200 170]\n",
      "  [114 186 198]\n",
      "  [197 157 209]]\n",
      "\n",
      " [[ 52  73  32]\n",
      "  [ 46  62  26]\n",
      "  [ 50  55  32]\n",
      "  ...\n",
      "  [ 19 212 185]\n",
      "  [110 206 218]\n",
      "  [179 176 223]]\n",
      "\n",
      " [[ 72  82  47]\n",
      "  [ 59  66  35]\n",
      "  [ 58  61  40]\n",
      "  ...\n",
      "  [ 20 223 203]\n",
      "  [100 234 243]\n",
      "  [155 210 249]]\n",
      "\n",
      " ...\n",
      "\n",
      " [[167 136 141]\n",
      "  [172 141 146]\n",
      "  [164 133 138]\n",
      "  ...\n",
      "  [ 54  48  50]\n",
      "  [ 52  46  48]\n",
      "  [ 50  46  47]]\n",
      "\n",
      " [[144 114 116]\n",
      "  [152 122 122]\n",
      "  [158 128 128]\n",
      "  ...\n",
      "  [ 54  50  51]\n",
      "  [ 50  46  47]\n",
      "  [ 47  43  44]]\n",
      "\n",
      " [[140 110 110]\n",
      "  [147 117 117]\n",
      "  [161 131 131]\n",
      "  ...\n",
      "  [ 52  48  49]\n",
      "  [ 48  44  43]\n",
      "  [ 43  39  38]]]\n",
      "*****************************\n",
      "[[[ 37.   33.    4. ]\n",
      "  [ 37.   29.5   4.2]\n",
      "  [ 44.   27.    5.8]\n",
      "  ...\n",
      "  [ 17.  100.   34. ]\n",
      "  [114.   93.   39.6]\n",
      "  [197.   78.5  41.8]]\n",
      "\n",
      " [[ 52.   36.5   6.4]\n",
      "  [ 46.   31.    5.2]\n",
      "  [ 50.   27.5   6.4]\n",
      "  ...\n",
      "  [ 19.  106.   37. ]\n",
      "  [110.  103.   43.6]\n",
      "  [179.   88.   44.6]]\n",
      "\n",
      " [[ 72.   41.    9.4]\n",
      "  [ 59.   33.    7. ]\n",
      "  [ 58.   30.5   8. ]\n",
      "  ...\n",
      "  [ 20.  111.5  40.6]\n",
      "  [100.  117.   48.6]\n",
      "  [155.  105.   49.8]]\n",
      "\n",
      " ...\n",
      "\n",
      " [[167.   68.   28.2]\n",
      "  [172.   70.5  29.2]\n",
      "  [164.   66.5  27.6]\n",
      "  ...\n",
      "  [ 54.   24.   10. ]\n",
      "  [ 52.   23.    9.6]\n",
      "  [ 50.   23.    9.4]]\n",
      "\n",
      " [[144.   57.   23.2]\n",
      "  [152.   61.   24.4]\n",
      "  [158.   64.   25.6]\n",
      "  ...\n",
      "  [ 54.   25.   10.2]\n",
      "  [ 50.   23.    9.4]\n",
      "  [ 47.   21.5   8.8]]\n",
      "\n",
      " [[140.   55.   22. ]\n",
      "  [147.   58.5  23.4]\n",
      "  [161.   65.5  26.2]\n",
      "  ...\n",
      "  [ 52.   24.    9.8]\n",
      "  [ 48.   22.    8.6]\n",
      "  [ 43.   19.5   7.6]]]\n"
     ]
    },
    {
     "name": "stderr",
     "output_type": "stream",
     "text": [
      "C:\\Users\\Win10\\Anaconda3\\lib\\site-packages\\ipykernel_launcher.py:11: DeprecationWarning: `imsave` is deprecated!\n",
      "`imsave` is deprecated in SciPy 1.0.0, and will be removed in 1.2.0.\n",
      "Use ``imageio.imwrite`` instead.\n",
      "  # This is added back by InteractiveShellApp.init_path()\n"
     ]
    }
   ],
   "source": [
    "########  Scipy  ################\n",
    "from scipy.misc import imread,imsave,imresize\n",
    "import imageio\n",
    "img = imageio.imread('ford_mustang_gt.jpg')\n",
    "print(img.dtype, img.shape)\n",
    "img_tinted = img * [1, 0.5, 0.2]\n",
    "print(img)\n",
    "print(\"*****************************\")\n",
    "print(img_tinted)\n",
    "#img_tinted = imresize(img_tinted,300,300)\n",
    "imsave(\"Husky_Tinted.jpg\",img_tinted)\n"
   ]
  },
  {
   "cell_type": "code",
   "execution_count": 68,
   "metadata": {},
   "outputs": [
    {
     "name": "stderr",
     "output_type": "stream",
     "text": [
      "C:\\Users\\Win10\\Anaconda3\\lib\\site-packages\\ipykernel_launcher.py:7: RuntimeWarning: invalid value encountered in arcsin\n",
      "  import sys\n"
     ]
    },
    {
     "data": {
      "image/png": "[encoded data removed]",
      "text/plain": [
       "<Figure size 432x288 with 1 Axes>"
      ]
     },
     "metadata": {
      "needs_background": "light"
     },
     "output_type": "display_data"
    }
   ],
   "source": [
    "############  Matplotlib  ##################\n",
    "import matplotlib.pyplot as plt\n",
    "x = np.arange(0, 3 * np.pi,0.1)\n",
    "#print(x)\n",
    "y = np.sin(x)\n",
    "z = np.cos(x)\n",
    "a = np.arcsin(x)\n",
    "plt.xlabel(\"X Axis Label\")\n",
    "plt.ylabel(\"Y Axis Label\")\n",
    "plt.plot(x,y)\n",
    "plt.plot(x,z)\n",
    "plt.plot(x,a)\n",
    "plt.title(\"Trignometry Functions\")\n",
    "plt.legend([\"Sine\",\"Cosine\"])\n",
    "plt.show()\n"
   ]
  }
 ],
 "metadata": {
  "kernelspec": {
   "display_name": "Python 3",
   "language": "python",
   "name": "python3"
  },
  "language_info": {
   "codemirror_mode": {
    "name": "ipython",
    "version": 3
   },
   "file_extension": ".py",
   "mimetype": "text/x-python",
   "name": "python",
   "nbconvert_exporter": "python",
   "pygments_lexer": "ipython3",
   "version": "3.7.3"
  }
 },
 "nbformat": 4,
 "nbformat_minor": 2
}
